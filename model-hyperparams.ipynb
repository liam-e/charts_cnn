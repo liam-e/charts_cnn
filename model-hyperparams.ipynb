{
 "cells": [
  {
   "cell_type": "code",
   "execution_count": 1,
   "metadata": {},
   "outputs": [],
   "source": [
    "import tensorflow as tf\n",
    "import tensorflow_datasets as tfds\n",
    "from tensorflow import keras\n",
    "import matplotlib.pyplot as plt\n",
    "import numpy as np\n",
    "from PIL import Image\n",
    "import os\n",
    "from kerastuner.tuners import RandomSearch\n",
    "%matplotlib inline"
   ]
  },
  {
   "cell_type": "code",
   "execution_count": 2,
   "metadata": {},
   "outputs": [],
   "source": [
    "input_shape = (194, 259, 3)\n",
    "num_classes = 2\n",
    "\n",
    "data_dir = \"/media/liam/F8EEAC88EEAC412C/Users/liam_/dev/tensorflow/data\"\n",
    "model_dir = \"/run/user/1000/gvfs/smb-share:server=raspberrypi.local,share=hasty\""
   ]
  },
  {
   "cell_type": "code",
   "execution_count": 3,
   "metadata": {},
   "outputs": [],
   "source": [
    "class DataGenerator:\n",
    "    \n",
    "    def __init__(self, data_dir):\n",
    "        self.data_dir = data_dir\n",
    "        self.files = sorted(os.listdir(f\"{data_dir}/x\"))\n",
    "        self.files_i = 0\n",
    "        self.file = self.files[self.files_i]\n",
    "        self.data_i = 0\n",
    "        self.x = np.load(f\"{self.data_dir}/x/{self.file}\", allow_pickle=True)\n",
    "        self.y = np.load(f\"{self.data_dir}/y/{self.file}\", allow_pickle=True)\n",
    "\n",
    "    def grab_next(self):\n",
    "\n",
    "        if self.data_i >= len(self.x):\n",
    "            self.files_i = (self.files_i + 1) % len(self.files)\n",
    "            self.file = self.files[self.files_i]\n",
    "            self.data_i = 0\n",
    "            self.x = np.load(f\"{self.data_dir}/x/{self.file}\", allow_pickle=True)\n",
    "            self.y = np.load(f\"{self.data_dir}/y/{self.file}\", allow_pickle=True)\n",
    "            self.len_data = len(self.x)\n",
    "\n",
    "        self.data_i += 1\n",
    "\n",
    "        return self.x[self.data_i], self.y[self.data_i]\n",
    "        \n",
    "    def take(self, n):\n",
    "        xy = np.array([data_generator.grab_next() for _ in range(n)])\n",
    "        np.random.shuffle(xy)\n",
    "        return np.array([i for i in xy[:, 0]]), xy[:, 1].astype(np.uint8)"
   ]
  },
  {
   "cell_type": "code",
   "execution_count": 4,
   "metadata": {},
   "outputs": [],
   "source": [
    "def plot_model(history):\n",
    "    plt.plot(history.history['accuracy'], label='accuracy')\n",
    "    plt.plot(history.history['val_accuracy'], label = 'val_accuracy')\n",
    "    plt.xlabel('Epoch')\n",
    "    plt.ylabel('Accuracy')\n",
    "    # plt.ylim([0.5, 1])\n",
    "    plt.legend(loc='lower right')\n",
    "    plt.show()\n",
    "    \n",
    "    plt.plot(history.history['loss'], label='loss')\n",
    "    plt.plot(history.history['val_loss'], label = 'val_loss')\n",
    "    plt.xlabel('Epoch')\n",
    "    plt.ylabel('Loss')\n",
    "    # plt.ylim([0.5, 1])\n",
    "    plt.legend(loc='lower right')\n",
    "    plt.show()"
   ]
  },
  {
   "cell_type": "code",
   "execution_count": 5,
   "metadata": {},
   "outputs": [],
   "source": [
    "def build_model(hp):\n",
    "        model = keras.Sequential()\n",
    "        model.add(keras.layers.AveragePooling2D(6, 3, input_shape=input_shape))\n",
    "        \n",
    "        for i in range(hp.Int(\"Conv Layers\", min_value=1, max_value=3)):\n",
    "            model.add(keras.layers.Conv2D(hp.Choice(f\"layer_{i}_filters\", [16, 32, 64]), hp.Choice(f\"Conv_size\", [3, 5]), activation=\"relu\"))\n",
    "        \n",
    "        model.add(keras.layers.MaxPool2D(2, 2))\n",
    "        model.add(keras.layers.Dropout(hp.Choice(f\"Dropout rate\", [0.1, 0.2, 0.3])))\n",
    "        model.add(keras.layers.Flatten())\n",
    "        \n",
    "        model.add(keras.layers.Dense(hp.Choice(\"Dense layer\", [64, 128, 256, 512]), activation=\"relu\"))\n",
    "        model.add(keras.layers.Dense(num_classes, activation=\"softmax\"))\n",
    "\n",
    "        model.compile(optimizer=\"adam\",\n",
    "                     loss=keras.losses.SparseCategoricalCrossentropy(),\n",
    "                     metrics=[\"accuracy\"])\n",
    "        return model"
   ]
  },
  {
   "cell_type": "code",
   "execution_count": null,
   "metadata": {},
   "outputs": [
    {
     "name": "stdout",
     "output_type": "stream",
     "text": [
      "INFO:tensorflow:Reloading Oracle from existing project /run/user/1000/gvfs/smb-share:server=raspberrypi.local,share=hasty/charts-cnn-model/charts-cnn-model/oracle.json\n",
      "INFO:tensorflow:Reloading Tuner from /run/user/1000/gvfs/smb-share:server=raspberrypi.local,share=hasty/charts-cnn-model/charts-cnn-model/tuner0.json\n",
      "\n",
      "Search: Running Trial #1\n",
      "\n",
      "Hyperparameter    |Value             |Best Value So Far \n",
      "Conv Layers       |2                 |1                 \n",
      "Dense layer       |1024              |256               \n",
      "layer_0_filters   |16                |32                \n",
      "layer_1_filters   |16                |32                \n",
      "layer_2_filters   |32                |None              \n",
      "\n",
      "Epoch 1/3\n",
      " 1/23 [>.............................] - ETA: 0s - loss: 0.6912 - accuracy: 0.5000WARNING:tensorflow:Callbacks method `on_train_batch_end` is slow compared to the batch time (batch time: 0.0106s vs `on_train_batch_end` time: 0.0183s). Check your callbacks.\n",
      "23/23 [==============================] - ETA: 0s - loss: 0.8264 - accuracy: 0.5333"
     ]
    }
   ],
   "source": [
    "data_generator = DataGenerator(data_dir)\n",
    "\n",
    "with tf.device('/GPU:0'):\n",
    "    \n",
    "    data_size = 500\n",
    "    test_percent = 0.1\n",
    "    test_size = int(data_size * test_percent)\n",
    "    train_size = data_size - test_size\n",
    "\n",
    "    x_train, y_train = data_generator.take(train_size)\n",
    "    x_test, y_test = data_generator.take(test_size)\n",
    "    \n",
    "    with tf.device('/GPU:0'):  \n",
    "        tuner = RandomSearch(\n",
    "            build_model,\n",
    "            objective=\"val_accuracy\",\n",
    "            max_trials=32,\n",
    "            executions_per_trial=2,\n",
    "            directory=f\"{model_dir}/charts-cnn-model\",\n",
    "            project_name=\"charts-cnn-model\"\n",
    "        )\n",
    "        \n",
    "        tuner.search(x_train, y_train, validation_data=(x_test, y_test), epochs=3, batch_size=20)\n"
   ]
  },
  {
   "cell_type": "code",
   "execution_count": null,
   "metadata": {},
   "outputs": [],
   "source": [
    "best_model = tuner.get_best_models()[0]\n",
    "best_model.summary()"
   ]
  },
  {
   "cell_type": "code",
   "execution_count": null,
   "metadata": {},
   "outputs": [],
   "source": [
    "tuner.results_summary()"
   ]
  },
  {
   "cell_type": "code",
   "execution_count": null,
   "metadata": {},
   "outputs": [],
   "source": [
    "best_model.save(\"./my_model\")"
   ]
  }
 ],
 "metadata": {
  "kernelspec": {
   "display_name": "Python 3",
   "language": "python",
   "name": "python3"
  },
  "language_info": {
   "codemirror_mode": {
    "name": "ipython",
    "version": 3
   },
   "file_extension": ".py",
   "mimetype": "text/x-python",
   "name": "python",
   "nbconvert_exporter": "python",
   "pygments_lexer": "ipython3",
   "version": "3.8.5"
  }
 },
 "nbformat": 4,
 "nbformat_minor": 4
}
